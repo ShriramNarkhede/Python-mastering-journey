{
 "cells": [
  {
   "cell_type": "code",
   "execution_count": 2,
   "id": "8b1b2398-6e57-4dd7-a549-a66649818571",
   "metadata": {},
   "outputs": [
    {
     "name": "stdout",
     "output_type": "stream",
     "text": [
      "sheeram\n"
     ]
    }
   ],
   "source": [
    "print(\"sheeram\")"
   ]
  },
  {
   "cell_type": "code",
   "execution_count": 5,
   "id": "edb54500-68ea-4a5e-aaac-7b2cea0a894b",
   "metadata": {},
   "outputs": [
    {
     "name": "stdin",
     "output_type": "stream",
     "text": [
      " 38483.484\n"
     ]
    }
   ],
   "source": [
    "a=float(input())\n"
   ]
  },
  {
   "cell_type": "code",
   "execution_count": 39,
   "id": "580fcc85-6502-4d02-a516-4a777f1bc547",
   "metadata": {},
   "outputs": [
    {
     "name": "stdout",
     "output_type": "stream",
     "text": [
      "3\n"
     ]
    }
   ],
   "source": [
    "a=5\n",
    "a=3\n",
    "print(a)\n"
   ]
  },
  {
   "cell_type": "code",
   "execution_count": 40,
   "id": "b38c87fd-50b0-4eee-9591-d1381b433ff0",
   "metadata": {},
   "outputs": [],
   "source": [
    "fr=[\"abc\",\"xyz\",\"pqr\"]\n",
    "f,i,r=fr"
   ]
  },
  {
   "cell_type": "code",
   "execution_count": 41,
   "id": "5134b823-2856-4724-b819-55bd753a04db",
   "metadata": {},
   "outputs": [
    {
     "name": "stdout",
     "output_type": "stream",
     "text": [
      "abc\n"
     ]
    }
   ],
   "source": [
    "print(f)"
   ]
  },
  {
   "cell_type": "code",
   "execution_count": 42,
   "id": "fb63163a-8fcc-47ee-a340-b3996be3c89b",
   "metadata": {},
   "outputs": [],
   "source": [
    "x,y,z=7,9,2\n",
    "a=b=c=m=8 "
   ]
  },
  {
   "cell_type": "code",
   "execution_count": 43,
   "id": "a2e9de61-5d1c-40b7-b540-311e8c5ad096",
   "metadata": {},
   "outputs": [
    {
     "name": "stdout",
     "output_type": "stream",
     "text": [
      "8\n",
      "8\n"
     ]
    }
   ],
   "source": [
    "print(a)\n",
    "\n",
    "print(m)"
   ]
  },
  {
   "cell_type": "code",
   "execution_count": 44,
   "id": "7ae1afac-50d2-496f-a6e0-1e95deacab21",
   "metadata": {},
   "outputs": [],
   "source": [
    "def myf():\n",
    "    a=99\n",
    "    print(a)"
   ]
  },
  {
   "cell_type": "code",
   "execution_count": 45,
   "id": "ce00e6af-0a09-4841-a8bd-91fb3da1b6fc",
   "metadata": {},
   "outputs": [
    {
     "name": "stdout",
     "output_type": "stream",
     "text": [
      "99\n"
     ]
    }
   ],
   "source": [
    "myf()"
   ]
  },
  {
   "cell_type": "code",
   "execution_count": 46,
   "id": "5dd09faa-0245-437c-abfa-056e7af6aadb",
   "metadata": {},
   "outputs": [
    {
     "name": "stdout",
     "output_type": "stream",
     "text": [
      "8\n"
     ]
    }
   ],
   "source": [
    "print(a)"
   ]
  },
  {
   "cell_type": "code",
   "execution_count": 34,
   "id": "a0d4e6b6-ae6a-4c99-be50-d0c83be92746",
   "metadata": {},
   "outputs": [],
   "source": [
    "def myf():\n",
    "    global a\n",
    "    a=99\n",
    "    print(a)"
   ]
  },
  {
   "cell_type": "code",
   "execution_count": 35,
   "id": "e4fbcc8c-d131-4aee-8caf-d5b49e385bf2",
   "metadata": {},
   "outputs": [
    {
     "name": "stdout",
     "output_type": "stream",
     "text": [
      "99\n"
     ]
    }
   ],
   "source": [
    "myf()"
   ]
  },
  {
   "cell_type": "code",
   "execution_count": 36,
   "id": "6b920b61-680e-4197-8079-8f92bb991f02",
   "metadata": {},
   "outputs": [
    {
     "name": "stdout",
     "output_type": "stream",
     "text": [
      "99\n"
     ]
    }
   ],
   "source": [
    "print(a)"
   ]
  },
  {
   "cell_type": "code",
   "execution_count": null,
   "id": "63b16a66-5b3b-4149-b62d-fd64cc7b9c1f",
   "metadata": {},
   "outputs": [],
   "source": []
  }
 ],
 "metadata": {
  "kernelspec": {
   "display_name": "Python 3 (ipykernel)",
   "language": "python",
   "name": "python3"
  },
  "language_info": {
   "codemirror_mode": {
    "name": "ipython",
    "version": 3
   },
   "file_extension": ".py",
   "mimetype": "text/x-python",
   "name": "python",
   "nbconvert_exporter": "python",
   "pygments_lexer": "ipython3",
   "version": "3.13.1"
  }
 },
 "nbformat": 4,
 "nbformat_minor": 5
}
