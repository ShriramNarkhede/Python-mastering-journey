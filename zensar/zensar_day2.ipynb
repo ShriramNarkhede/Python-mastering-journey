{
 "cells": [
  {
   "cell_type": "code",
   "execution_count": 5,
   "id": "613007f4-1c2d-44dd-a566-9f07a7868aa5",
   "metadata": {},
   "outputs": [],
   "source": [
    "a=10\n",
    "b=5"
   ]
  },
  {
   "cell_type": "code",
   "execution_count": 6,
   "id": "9582a206-0e10-4569-912c-e21577cf0963",
   "metadata": {},
   "outputs": [
    {
     "name": "stdout",
     "output_type": "stream",
     "text": [
      "Addition of two no is 15\n"
     ]
    }
   ],
   "source": [
    "print(\"Addition of two no is\",a+b)"
   ]
  },
  {
   "cell_type": "code",
   "execution_count": 7,
   "id": "88c29a01-7e64-4c8f-9a6a-135194118117",
   "metadata": {},
   "outputs": [
    {
     "name": "stdout",
     "output_type": "stream",
     "text": [
      "Substaction of two no is 5\n",
      "Multiplication of two no is 50\n",
      "Division of two no is 2.0\n",
      "Floor Division of two no is 2\n",
      "Mod of two no is 0\n"
     ]
    }
   ],
   "source": [
    "print(\"Substaction of two no is\",a-b)\n",
    "print(\"Multiplication of two no is\",a*b)\n",
    "print(\"Division of two no is\",a/b)\n",
    "print(\"Floor Division of two no is\",a//b)\n",
    "print(\"Mod of two no is\",a%b)"
   ]
  },
  {
   "cell_type": "code",
   "execution_count": 13,
   "id": "32c6c3a9-cd95-445e-a17a-1673161481a1",
   "metadata": {},
   "outputs": [
    {
     "name": "stdin",
     "output_type": "stream",
     "text": [
      "Enter number1  4\n",
      "Enter number2 5\n"
     ]
    }
   ],
   "source": [
    "a=int(input(\"Enter number1 \"))\n",
    "b=int(input(\"Enter number2\" ))"
   ]
  },
  {
   "cell_type": "code",
   "execution_count": 12,
   "id": "e5ca7a5c-ee21-4aba-8c8a-4acba28f9781",
   "metadata": {},
   "outputs": [
    {
     "name": "stdout",
     "output_type": "stream",
     "text": [
      "Addition of two no is 10\n",
      "Substaction of two no is 2\n",
      "Multiplication of two no is 24\n",
      "Division of two no is 1.5\n",
      "Floor Division of two no is 1\n",
      "Mod of two no is 2\n"
     ]
    }
   ],
   "source": [
    "print(\"Addition of two no is\",a+b)\n",
    "print(\"Substaction of two no is\",a-b)\n",
    "print(\"Multiplication of two no is\",a*b)\n",
    "print(\"Division of two no is\",a/b)\n",
    "print(\"Floor Division of two no is\",a//b)\n",
    "print(\"Mod of two no is\",a%b)"
   ]
  },
  {
   "cell_type": "code",
   "execution_count": 15,
   "id": "28ea56b0-1b8d-4d91-9678-5c8430f820a6",
   "metadata": {},
   "outputs": [
    {
     "name": "stdout",
     "output_type": "stream",
     "text": [
      "1024\n"
     ]
    }
   ],
   "source": [
    "print(a**b)"
   ]
  },
  {
   "cell_type": "code",
   "execution_count": null,
   "id": "79b715a3-30da-41ac-af98-e3c7e853df1d",
   "metadata": {},
   "outputs": [],
   "source": []
  }
 ],
 "metadata": {
  "kernelspec": {
   "display_name": "Python 3 (ipykernel)",
   "language": "python",
   "name": "python3"
  },
  "language_info": {
   "codemirror_mode": {
    "name": "ipython",
    "version": 3
   },
   "file_extension": ".py",
   "mimetype": "text/x-python",
   "name": "python",
   "nbconvert_exporter": "python",
   "pygments_lexer": "ipython3",
   "version": "3.13.1"
  }
 },
 "nbformat": 4,
 "nbformat_minor": 5
}
